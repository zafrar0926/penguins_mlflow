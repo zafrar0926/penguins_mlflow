{
 "cells": [
  {
   "cell_type": "code",
   "execution_count": 1,
   "metadata": {
    "tags": []
   },
   "outputs": [],
   "source": [
    "import mlflow\n",
    "\n",
    "# Asegurar que estamos conectados a MLflow\n",
    "mlflow.set_tracking_uri(\"http://10.43.101.205:5000\")\n",
    "mlflow.set_experiment(\"penguins_experiment\")\n",
    "\n",
    "\n",
    "# Activar Auto Logging para Sklearn\n",
    "mlflow.sklearn.autolog(log_model_signatures=True, log_input_examples=True)"
   ]
  },
  {
   "cell_type": "code",
   "execution_count": 4,
   "metadata": {
    "tags": []
   },
   "outputs": [],
   "source": [
    "import os\n",
    "os.environ[\"AWS_ACCESS_KEY_ID\"] = \"admin\"\n",
    "os.environ[\"AWS_SECRET_ACCESS_KEY\"] = \"supersecret\"\n",
    "os.environ[\"MLFLOW_S3_ENDPOINT_URL\"] = \"http://10.43.101.205:9000\"  # Ajusta la IP si es necesario\n",
    "\n",
    "import boto3\n",
    "s3 = boto3.client(\n",
    "    \"s3\",\n",
    "    endpoint_url=os.environ[\"MLFLOW_S3_ENDPOINT_URL\"],\n",
    "    aws_access_key_id=os.environ[\"AWS_ACCESS_KEY_ID\"],\n",
    "    aws_secret_access_key=os.environ[\"AWS_SECRET_ACCESS_KEY\"]\n",
    ")\n",
    "\n",
    "bucket_name = \"mlflows3\""
   ]
  },
  {
   "cell_type": "code",
   "execution_count": 5,
   "metadata": {
    "tags": []
   },
   "outputs": [
    {
     "name": "stdout",
     "output_type": "stream",
     "text": [
      "✅ Dataset registrado en MLflow correctamente.\n"
     ]
    }
   ],
   "source": [
    "import pandas as pd\n",
    "from io import StringIO\n",
    "\n",
    "# Descargar el archivo desde MinIO\n",
    "obj = s3.get_object(Bucket=bucket_name, Key=\"penguins_size.csv\")\n",
    "data = obj[\"Body\"].read().decode(\"utf-8\")  # Decodificar a texto\n",
    "\n",
    "# Convertirlo a un DataFrame de pandas\n",
    "df = pd.read_csv(StringIO(data))\n",
    "\n",
    "import mlflow\n",
    "\n",
    "# Iniciar un run en MLflow\n",
    "mlflow.set_tracking_uri(\"http://10.43.101.205:5000\")  # Ajusta la IP si es diferente\n",
    "mlflow.set_experiment(\"penguins_experiment\")\n",
    "\n",
    "with mlflow.start_run(run_name=\"load_penguins_data\"):\n",
    "    # Guardar el dataset en MinIO como un artefacto de MLflow\n",
    "    df.to_csv(\"penguins_size_processed.csv\", index=False)\n",
    "    mlflow.log_artifact(\"penguins_size_processed.csv\")\n",
    "    print(\"✅ Dataset registrado en MLflow correctamente.\")\n",
    "    "
   ]
  },
  {
   "cell_type": "code",
   "execution_count": 6,
   "metadata": {
    "tags": []
   },
   "outputs": [
    {
     "data": {
      "text/html": [
       "<div>\n",
       "<style scoped>\n",
       "    .dataframe tbody tr th:only-of-type {\n",
       "        vertical-align: middle;\n",
       "    }\n",
       "\n",
       "    .dataframe tbody tr th {\n",
       "        vertical-align: top;\n",
       "    }\n",
       "\n",
       "    .dataframe thead th {\n",
       "        text-align: right;\n",
       "    }\n",
       "</style>\n",
       "<table border=\"1\" class=\"dataframe\">\n",
       "  <thead>\n",
       "    <tr style=\"text-align: right;\">\n",
       "      <th></th>\n",
       "      <th>species</th>\n",
       "      <th>island</th>\n",
       "      <th>culmen_length_mm</th>\n",
       "      <th>culmen_depth_mm</th>\n",
       "      <th>flipper_length_mm</th>\n",
       "      <th>body_mass_g</th>\n",
       "      <th>sex</th>\n",
       "    </tr>\n",
       "  </thead>\n",
       "  <tbody>\n",
       "    <tr>\n",
       "      <th>0</th>\n",
       "      <td>Adelie</td>\n",
       "      <td>Torgersen</td>\n",
       "      <td>39.1</td>\n",
       "      <td>18.7</td>\n",
       "      <td>181.0</td>\n",
       "      <td>3750.0</td>\n",
       "      <td>MALE</td>\n",
       "    </tr>\n",
       "    <tr>\n",
       "      <th>1</th>\n",
       "      <td>Adelie</td>\n",
       "      <td>Torgersen</td>\n",
       "      <td>39.5</td>\n",
       "      <td>17.4</td>\n",
       "      <td>186.0</td>\n",
       "      <td>3800.0</td>\n",
       "      <td>FEMALE</td>\n",
       "    </tr>\n",
       "    <tr>\n",
       "      <th>2</th>\n",
       "      <td>Adelie</td>\n",
       "      <td>Torgersen</td>\n",
       "      <td>40.3</td>\n",
       "      <td>18.0</td>\n",
       "      <td>195.0</td>\n",
       "      <td>3250.0</td>\n",
       "      <td>FEMALE</td>\n",
       "    </tr>\n",
       "    <tr>\n",
       "      <th>3</th>\n",
       "      <td>Adelie</td>\n",
       "      <td>Torgersen</td>\n",
       "      <td>NaN</td>\n",
       "      <td>NaN</td>\n",
       "      <td>NaN</td>\n",
       "      <td>NaN</td>\n",
       "      <td>NaN</td>\n",
       "    </tr>\n",
       "    <tr>\n",
       "      <th>4</th>\n",
       "      <td>Adelie</td>\n",
       "      <td>Torgersen</td>\n",
       "      <td>36.7</td>\n",
       "      <td>19.3</td>\n",
       "      <td>193.0</td>\n",
       "      <td>3450.0</td>\n",
       "      <td>FEMALE</td>\n",
       "    </tr>\n",
       "  </tbody>\n",
       "</table>\n",
       "</div>"
      ],
      "text/plain": [
       "  species     island  culmen_length_mm  culmen_depth_mm  flipper_length_mm  \\\n",
       "0  Adelie  Torgersen              39.1             18.7              181.0   \n",
       "1  Adelie  Torgersen              39.5             17.4              186.0   \n",
       "2  Adelie  Torgersen              40.3             18.0              195.0   \n",
       "3  Adelie  Torgersen               NaN              NaN                NaN   \n",
       "4  Adelie  Torgersen              36.7             19.3              193.0   \n",
       "\n",
       "   body_mass_g     sex  \n",
       "0       3750.0    MALE  \n",
       "1       3800.0  FEMALE  \n",
       "2       3250.0  FEMALE  \n",
       "3          NaN     NaN  \n",
       "4       3450.0  FEMALE  "
      ]
     },
     "execution_count": 6,
     "metadata": {},
     "output_type": "execute_result"
    }
   ],
   "source": [
    "# Mostrar las primeras filas para confirmar que se cargó bien\n",
    "df.head()"
   ]
  },
  {
   "cell_type": "code",
   "execution_count": 7,
   "metadata": {
    "tags": []
   },
   "outputs": [
    {
     "name": "stdout",
     "output_type": "stream",
     "text": [
      "Valores nulos después de imputación: species              0\n",
      "island               0\n",
      "culmen_length_mm     0\n",
      "culmen_depth_mm      0\n",
      "flipper_length_mm    0\n",
      "body_mass_g          0\n",
      "sex                  0\n",
      "dtype: int64\n"
     ]
    },
    {
     "name": "stderr",
     "output_type": "stream",
     "text": [
      "2025/03/17 19:00:11 WARNING mlflow.utils.autologging_utils: MLflow autologging encountered a warning: \"/usr/local/lib/python3.9/site-packages/mlflow/models/signature.py:137: UserWarning: Hint: Inferred schema contains integer column(s). Integer columns in Python cannot represent missing values. If your input data contains missing values at inference time, it will be encoded as floats and will cause a schema enforcement error. The best way to avoid this problem is to infer the model schema based on a realistic data sample (training dataset) that includes missing values. Alternatively, you can declare integer columns as doubles (float64) whenever these columns may have missing values. See `Handling Integers With Missing Values <https://www.mlflow.org/docs/latest/models.html#handling-integers-with-missing-values>`_ for more details.\"\n"
     ]
    },
    {
     "name": "stdout",
     "output_type": "stream",
     "text": [
      "✅ Accuracy: 0.9565217391304348\n",
      "              precision    recall  f1-score   support\n",
      "\n",
      "           0       1.00      0.94      0.97        32\n",
      "           1       0.89      1.00      0.94        16\n",
      "           2       0.95      0.95      0.95        21\n",
      "\n",
      "    accuracy                           0.96        69\n",
      "   macro avg       0.95      0.96      0.95        69\n",
      "weighted avg       0.96      0.96      0.96        69\n",
      "\n",
      "✅ Modelo registrado en MLflow.\n"
     ]
    }
   ],
   "source": [
    "import boto3\n",
    "import pandas as pd\n",
    "from io import StringIO\n",
    "import mlflow\n",
    "import mlflow.sklearn\n",
    "from sklearn.model_selection import train_test_split\n",
    "from sklearn.tree import DecisionTreeClassifier\n",
    "from sklearn.metrics import accuracy_score, classification_report\n",
    "from sklearn.impute import SimpleImputer\n",
    "from sklearn.preprocessing import LabelEncoder\n",
    "\n",
    "# ✅ Etapa 1: Procesamiento de Datos\n",
    "\n",
    "# Eliminar valores nulos con la estrategia de imputación más frecuente\n",
    "imputer = SimpleImputer(strategy='most_frequent')\n",
    "df.iloc[:, :] = imputer.fit_transform(df)\n",
    "\n",
    "# Verificar que no haya valores nulos\n",
    "print(\"Valores nulos después de imputación:\", df.isna().sum())\n",
    "\n",
    "# Convertir variables categóricas a numéricas usando Label Encoding\n",
    "label_encoders = {}\n",
    "for col in ['island', 'sex', 'species']:  # Variables categóricas\n",
    "    le = LabelEncoder()\n",
    "    df[col] = le.fit_transform(df[col])\n",
    "    label_encoders[col] = le  # Guardamos los encoders por si se necesitan después\n",
    "\n",
    "# ✅ Definir experimento en MLflow\n",
    "mlflow.set_tracking_uri(\"http://10.43.101.205:5000\")  # Ajusta la IP si es diferente\n",
    "mlflow.set_experiment(\"penguins_experiment\")\n",
    "\n",
    "# Separar características y variable objetivo\n",
    "X = df.drop(columns=[\"species\"])  # \"species\" es la variable objetivo\n",
    "y = df[\"species\"]\n",
    "\n",
    "# Dividir en entrenamiento y prueba\n",
    "X_train, X_test, y_train, y_test = train_test_split(X, y, test_size=0.2, random_state=42)\n",
    "\n",
    "# ✅ Iniciar un run en MLflow\n",
    "with mlflow.start_run(run_name=\"DecisionTree_penguins\"):\n",
    "\n",
    "    # Entrenar modelo\n",
    "    model = DecisionTreeClassifier(random_state=42)\n",
    "    model.fit(X_train, y_train)\n",
    "\n",
    "    # Hacer predicciones\n",
    "    y_pred = model.predict(X_test)\n",
    "\n",
    "    # Evaluar el modelo\n",
    "    acc = accuracy_score(y_test, y_pred)\n",
    "    print(f\"✅ Accuracy: {acc}\")\n",
    "    print(classification_report(y_test, y_pred))\n",
    "\n",
    "    # Registrar métricas en MLflow\n",
    "    mlflow.log_metric(\"accuracy\", acc)\n",
    "\n",
    "    # Registrar el modelo en MLflow\n",
    "    mlflow.sklearn.log_model(model, \"penguins_model\")\n",
    "\n",
    "    print(\"✅ Modelo registrado en MLflow.\")\n",
    "\n"
   ]
  },
  {
   "cell_type": "code",
   "execution_count": 8,
   "metadata": {
    "tags": []
   },
   "outputs": [
    {
     "name": "stderr",
     "output_type": "stream",
     "text": [
      "/usr/local/lib/python3.9/site-packages/xgboost/core.py:158: UserWarning: [19:00:22] WARNING: /workspace/src/learner.cc:740: \n",
      "Parameters: { \"use_label_encoder\" } are not used.\n",
      "\n",
      "  warnings.warn(smsg, UserWarning)\n"
     ]
    },
    {
     "name": "stdout",
     "output_type": "stream",
     "text": [
      "✅ XGBoost Accuracy: 0.9710144927536232\n",
      "              precision    recall  f1-score   support\n",
      "\n",
      "           0       1.00      0.94      0.97        32\n",
      "           1       0.89      1.00      0.94        16\n",
      "           2       1.00      1.00      1.00        21\n",
      "\n",
      "    accuracy                           0.97        69\n",
      "   macro avg       0.96      0.98      0.97        69\n",
      "weighted avg       0.97      0.97      0.97        69\n",
      "\n",
      "✅ XGBoost registrado en MLflow.\n"
     ]
    }
   ],
   "source": [
    "import boto3\n",
    "import pandas as pd\n",
    "from io import StringIO\n",
    "import mlflow\n",
    "import mlflow.sklearn\n",
    "from sklearn.model_selection import train_test_split\n",
    "from sklearn.tree import DecisionTreeClassifier\n",
    "from sklearn.metrics import accuracy_score, classification_report\n",
    "from sklearn.impute import SimpleImputer\n",
    "from sklearn.preprocessing import LabelEncoder\n",
    "from xgboost import XGBClassifier\n",
    "\n",
    "### ✅ Entrenamiento con XGBoost\n",
    "with mlflow.start_run(run_name=\"XGBoost_penguins\"):\n",
    "\n",
    "    # Entrenar modelo\n",
    "    xgb_model = XGBClassifier(use_label_encoder=False, eval_metric=\"mlogloss\", random_state=42)\n",
    "    xgb_model.fit(X_train, y_train)\n",
    "\n",
    "    # Hacer predicciones\n",
    "    y_pred_xgb = xgb_model.predict(X_test)\n",
    "\n",
    "    # Evaluar el modelo\n",
    "    acc_xgb = accuracy_score(y_test, y_pred_xgb)\n",
    "    print(f\"✅ XGBoost Accuracy: {acc_xgb}\")\n",
    "    print(classification_report(y_test, y_pred_xgb))\n",
    "\n",
    "    # Registrar métricas en MLflow\n",
    "    mlflow.log_metric(\"accuracy_xgb\", acc_xgb)\n",
    "\n",
    "    # Registrar el modelo en MLflow\n",
    "    mlflow.sklearn.log_model(xgb_model, \"penguins_xgboost\")\n",
    "\n",
    "    print(\"✅ XGBoost registrado en MLflow.\")"
   ]
  },
  {
   "cell_type": "markdown",
   "metadata": {},
   "source": [
    "# Ejecuciones variando hiperparámetros"
   ]
  },
  {
   "cell_type": "code",
   "execution_count": 10,
   "metadata": {
    "tags": []
   },
   "outputs": [
    {
     "name": "stdout",
     "output_type": "stream",
     "text": [
      "🔄 Ejecutando experimento 1 con {'n_estimators': 50, 'max_depth': 3, 'learning_rate': 0.01}\n",
      "✅ Accuracy: 0.9710144927536232\n",
      "              precision    recall  f1-score   support\n",
      "\n",
      "           0       0.97      0.97      0.97        32\n",
      "           1       0.94      0.94      0.94        16\n",
      "           2       1.00      1.00      1.00        21\n",
      "\n",
      "    accuracy                           0.97        69\n",
      "   macro avg       0.97      0.97      0.97        69\n",
      "weighted avg       0.97      0.97      0.97        69\n",
      "\n"
     ]
    },
    {
     "name": "stderr",
     "output_type": "stream",
     "text": [
      "/usr/local/lib/python3.9/site-packages/xgboost/core.py:158: UserWarning: [19:10:27] WARNING: /workspace/src/learner.cc:740: \n",
      "Parameters: { \"use_label_encoder\" } are not used.\n",
      "\n",
      "  warnings.warn(smsg, UserWarning)\n"
     ]
    },
    {
     "name": "stdout",
     "output_type": "stream",
     "text": [
      "✅ Experimento 1 registrado en MLflow.\n",
      "🔄 Ejecutando experimento 2 con {'n_estimators': 100, 'max_depth': 4, 'learning_rate': 0.01}\n"
     ]
    },
    {
     "name": "stderr",
     "output_type": "stream",
     "text": [
      "/usr/local/lib/python3.9/site-packages/xgboost/core.py:158: UserWarning: [19:10:30] WARNING: /workspace/src/learner.cc:740: \n",
      "Parameters: { \"use_label_encoder\" } are not used.\n",
      "\n",
      "  warnings.warn(smsg, UserWarning)\n"
     ]
    },
    {
     "name": "stdout",
     "output_type": "stream",
     "text": [
      "✅ Accuracy: 0.9710144927536232\n",
      "              precision    recall  f1-score   support\n",
      "\n",
      "           0       0.97      0.97      0.97        32\n",
      "           1       0.94      0.94      0.94        16\n",
      "           2       1.00      1.00      1.00        21\n",
      "\n",
      "    accuracy                           0.97        69\n",
      "   macro avg       0.97      0.97      0.97        69\n",
      "weighted avg       0.97      0.97      0.97        69\n",
      "\n",
      "✅ Experimento 2 registrado en MLflow.\n",
      "🔄 Ejecutando experimento 3 con {'n_estimators': 150, 'max_depth': 5, 'learning_rate': 0.01}\n"
     ]
    },
    {
     "name": "stderr",
     "output_type": "stream",
     "text": [
      "/usr/local/lib/python3.9/site-packages/xgboost/core.py:158: UserWarning: [19:10:34] WARNING: /workspace/src/learner.cc:740: \n",
      "Parameters: { \"use_label_encoder\" } are not used.\n",
      "\n",
      "  warnings.warn(smsg, UserWarning)\n"
     ]
    },
    {
     "name": "stdout",
     "output_type": "stream",
     "text": [
      "✅ Accuracy: 0.9710144927536232\n",
      "              precision    recall  f1-score   support\n",
      "\n",
      "           0       0.97      0.97      0.97        32\n",
      "           1       0.94      0.94      0.94        16\n",
      "           2       1.00      1.00      1.00        21\n",
      "\n",
      "    accuracy                           0.97        69\n",
      "   macro avg       0.97      0.97      0.97        69\n",
      "weighted avg       0.97      0.97      0.97        69\n",
      "\n",
      "✅ Experimento 3 registrado en MLflow.\n",
      "🔄 Ejecutando experimento 4 con {'n_estimators': 200, 'max_depth': 6, 'learning_rate': 0.01}\n"
     ]
    },
    {
     "name": "stderr",
     "output_type": "stream",
     "text": [
      "/usr/local/lib/python3.9/site-packages/xgboost/core.py:158: UserWarning: [19:10:38] WARNING: /workspace/src/learner.cc:740: \n",
      "Parameters: { \"use_label_encoder\" } are not used.\n",
      "\n",
      "  warnings.warn(smsg, UserWarning)\n"
     ]
    },
    {
     "name": "stdout",
     "output_type": "stream",
     "text": [
      "✅ Accuracy: 0.9710144927536232\n",
      "              precision    recall  f1-score   support\n",
      "\n",
      "           0       0.97      0.97      0.97        32\n",
      "           1       0.94      0.94      0.94        16\n",
      "           2       1.00      1.00      1.00        21\n",
      "\n",
      "    accuracy                           0.97        69\n",
      "   macro avg       0.97      0.97      0.97        69\n",
      "weighted avg       0.97      0.97      0.97        69\n",
      "\n",
      "✅ Experimento 4 registrado en MLflow.\n",
      "🔄 Ejecutando experimento 5 con {'n_estimators': 50, 'max_depth': 3, 'learning_rate': 0.05}\n"
     ]
    },
    {
     "name": "stderr",
     "output_type": "stream",
     "text": [
      "/usr/local/lib/python3.9/site-packages/xgboost/core.py:158: UserWarning: [19:10:42] WARNING: /workspace/src/learner.cc:740: \n",
      "Parameters: { \"use_label_encoder\" } are not used.\n",
      "\n",
      "  warnings.warn(smsg, UserWarning)\n"
     ]
    },
    {
     "name": "stdout",
     "output_type": "stream",
     "text": [
      "✅ Accuracy: 0.9710144927536232\n",
      "              precision    recall  f1-score   support\n",
      "\n",
      "           0       0.97      0.97      0.97        32\n",
      "           1       0.94      0.94      0.94        16\n",
      "           2       1.00      1.00      1.00        21\n",
      "\n",
      "    accuracy                           0.97        69\n",
      "   macro avg       0.97      0.97      0.97        69\n",
      "weighted avg       0.97      0.97      0.97        69\n",
      "\n",
      "✅ Experimento 5 registrado en MLflow.\n",
      "🔄 Ejecutando experimento 6 con {'n_estimators': 100, 'max_depth': 4, 'learning_rate': 0.05}\n"
     ]
    },
    {
     "name": "stderr",
     "output_type": "stream",
     "text": [
      "/usr/local/lib/python3.9/site-packages/xgboost/core.py:158: UserWarning: [19:10:47] WARNING: /workspace/src/learner.cc:740: \n",
      "Parameters: { \"use_label_encoder\" } are not used.\n",
      "\n",
      "  warnings.warn(smsg, UserWarning)\n"
     ]
    },
    {
     "name": "stdout",
     "output_type": "stream",
     "text": [
      "✅ Accuracy: 0.9710144927536232\n",
      "              precision    recall  f1-score   support\n",
      "\n",
      "           0       0.97      0.97      0.97        32\n",
      "           1       0.94      0.94      0.94        16\n",
      "           2       1.00      1.00      1.00        21\n",
      "\n",
      "    accuracy                           0.97        69\n",
      "   macro avg       0.97      0.97      0.97        69\n",
      "weighted avg       0.97      0.97      0.97        69\n",
      "\n",
      "✅ Experimento 6 registrado en MLflow.\n",
      "🔄 Ejecutando experimento 7 con {'n_estimators': 150, 'max_depth': 5, 'learning_rate': 0.05}\n"
     ]
    },
    {
     "name": "stderr",
     "output_type": "stream",
     "text": [
      "/usr/local/lib/python3.9/site-packages/xgboost/core.py:158: UserWarning: [19:10:57] WARNING: /workspace/src/learner.cc:740: \n",
      "Parameters: { \"use_label_encoder\" } are not used.\n",
      "\n",
      "  warnings.warn(smsg, UserWarning)\n"
     ]
    },
    {
     "name": "stdout",
     "output_type": "stream",
     "text": [
      "✅ Accuracy: 0.9565217391304348\n",
      "              precision    recall  f1-score   support\n",
      "\n",
      "           0       1.00      0.91      0.95        32\n",
      "           1       0.89      1.00      0.94        16\n",
      "           2       0.95      1.00      0.98        21\n",
      "\n",
      "    accuracy                           0.96        69\n",
      "   macro avg       0.95      0.97      0.96        69\n",
      "weighted avg       0.96      0.96      0.96        69\n",
      "\n",
      "✅ Experimento 7 registrado en MLflow.\n",
      "🔄 Ejecutando experimento 8 con {'n_estimators': 200, 'max_depth': 6, 'learning_rate': 0.05}\n"
     ]
    },
    {
     "name": "stderr",
     "output_type": "stream",
     "text": [
      "/usr/local/lib/python3.9/site-packages/xgboost/core.py:158: UserWarning: [19:11:01] WARNING: /workspace/src/learner.cc:740: \n",
      "Parameters: { \"use_label_encoder\" } are not used.\n",
      "\n",
      "  warnings.warn(smsg, UserWarning)\n"
     ]
    },
    {
     "name": "stdout",
     "output_type": "stream",
     "text": [
      "✅ Accuracy: 0.9710144927536232\n",
      "              precision    recall  f1-score   support\n",
      "\n",
      "           0       1.00      0.94      0.97        32\n",
      "           1       0.89      1.00      0.94        16\n",
      "           2       1.00      1.00      1.00        21\n",
      "\n",
      "    accuracy                           0.97        69\n",
      "   macro avg       0.96      0.98      0.97        69\n",
      "weighted avg       0.97      0.97      0.97        69\n",
      "\n",
      "✅ Experimento 8 registrado en MLflow.\n",
      "🔄 Ejecutando experimento 9 con {'n_estimators': 50, 'max_depth': 3, 'learning_rate': 0.1}\n",
      "✅ Accuracy: 0.9710144927536232\n",
      "              precision    recall  f1-score   support\n",
      "\n",
      "           0       0.97      0.97      0.97        32\n",
      "           1       0.94      0.94      0.94        16\n",
      "           2       1.00      1.00      1.00        21\n",
      "\n",
      "    accuracy                           0.97        69\n",
      "   macro avg       0.97      0.97      0.97        69\n",
      "weighted avg       0.97      0.97      0.97        69\n",
      "\n"
     ]
    },
    {
     "name": "stderr",
     "output_type": "stream",
     "text": [
      "/usr/local/lib/python3.9/site-packages/xgboost/core.py:158: UserWarning: [19:11:04] WARNING: /workspace/src/learner.cc:740: \n",
      "Parameters: { \"use_label_encoder\" } are not used.\n",
      "\n",
      "  warnings.warn(smsg, UserWarning)\n"
     ]
    },
    {
     "name": "stdout",
     "output_type": "stream",
     "text": [
      "✅ Experimento 9 registrado en MLflow.\n",
      "🔄 Ejecutando experimento 10 con {'n_estimators': 100, 'max_depth': 4, 'learning_rate': 0.1}\n"
     ]
    },
    {
     "name": "stderr",
     "output_type": "stream",
     "text": [
      "/usr/local/lib/python3.9/site-packages/xgboost/core.py:158: UserWarning: [19:11:08] WARNING: /workspace/src/learner.cc:740: \n",
      "Parameters: { \"use_label_encoder\" } are not used.\n",
      "\n",
      "  warnings.warn(smsg, UserWarning)\n"
     ]
    },
    {
     "name": "stdout",
     "output_type": "stream",
     "text": [
      "✅ Accuracy: 0.9710144927536232\n",
      "              precision    recall  f1-score   support\n",
      "\n",
      "           0       1.00      0.94      0.97        32\n",
      "           1       0.89      1.00      0.94        16\n",
      "           2       1.00      1.00      1.00        21\n",
      "\n",
      "    accuracy                           0.97        69\n",
      "   macro avg       0.96      0.98      0.97        69\n",
      "weighted avg       0.97      0.97      0.97        69\n",
      "\n",
      "✅ Experimento 10 registrado en MLflow.\n",
      "🔄 Ejecutando experimento 11 con {'n_estimators': 150, 'max_depth': 5, 'learning_rate': 0.1}\n",
      "✅ Accuracy: 0.9710144927536232\n"
     ]
    },
    {
     "name": "stderr",
     "output_type": "stream",
     "text": [
      "/usr/local/lib/python3.9/site-packages/xgboost/core.py:158: UserWarning: [19:11:12] WARNING: /workspace/src/learner.cc:740: \n",
      "Parameters: { \"use_label_encoder\" } are not used.\n",
      "\n",
      "  warnings.warn(smsg, UserWarning)\n"
     ]
    },
    {
     "name": "stdout",
     "output_type": "stream",
     "text": [
      "              precision    recall  f1-score   support\n",
      "\n",
      "           0       1.00      0.94      0.97        32\n",
      "           1       0.89      1.00      0.94        16\n",
      "           2       1.00      1.00      1.00        21\n",
      "\n",
      "    accuracy                           0.97        69\n",
      "   macro avg       0.96      0.98      0.97        69\n",
      "weighted avg       0.97      0.97      0.97        69\n",
      "\n",
      "✅ Experimento 11 registrado en MLflow.\n",
      "🔄 Ejecutando experimento 12 con {'n_estimators': 200, 'max_depth': 6, 'learning_rate': 0.1}\n"
     ]
    },
    {
     "name": "stderr",
     "output_type": "stream",
     "text": [
      "/usr/local/lib/python3.9/site-packages/xgboost/core.py:158: UserWarning: [19:11:15] WARNING: /workspace/src/learner.cc:740: \n",
      "Parameters: { \"use_label_encoder\" } are not used.\n",
      "\n",
      "  warnings.warn(smsg, UserWarning)\n"
     ]
    },
    {
     "name": "stdout",
     "output_type": "stream",
     "text": [
      "✅ Accuracy: 0.9710144927536232\n",
      "              precision    recall  f1-score   support\n",
      "\n",
      "           0       1.00      0.94      0.97        32\n",
      "           1       0.89      1.00      0.94        16\n",
      "           2       1.00      1.00      1.00        21\n",
      "\n",
      "    accuracy                           0.97        69\n",
      "   macro avg       0.96      0.98      0.97        69\n",
      "weighted avg       0.97      0.97      0.97        69\n",
      "\n",
      "✅ Experimento 12 registrado en MLflow.\n",
      "🔄 Ejecutando experimento 13 con {'n_estimators': 50, 'max_depth': 3, 'learning_rate': 0.2}\n"
     ]
    },
    {
     "name": "stderr",
     "output_type": "stream",
     "text": [
      "/usr/local/lib/python3.9/site-packages/xgboost/core.py:158: UserWarning: [19:11:19] WARNING: /workspace/src/learner.cc:740: \n",
      "Parameters: { \"use_label_encoder\" } are not used.\n",
      "\n",
      "  warnings.warn(smsg, UserWarning)\n"
     ]
    },
    {
     "name": "stdout",
     "output_type": "stream",
     "text": [
      "✅ Accuracy: 0.9710144927536232\n",
      "              precision    recall  f1-score   support\n",
      "\n",
      "           0       0.97      0.97      0.97        32\n",
      "           1       0.94      0.94      0.94        16\n",
      "           2       1.00      1.00      1.00        21\n",
      "\n",
      "    accuracy                           0.97        69\n",
      "   macro avg       0.97      0.97      0.97        69\n",
      "weighted avg       0.97      0.97      0.97        69\n",
      "\n",
      "✅ Experimento 13 registrado en MLflow.\n",
      "🔄 Ejecutando experimento 14 con {'n_estimators': 100, 'max_depth': 4, 'learning_rate': 0.2}\n"
     ]
    },
    {
     "name": "stderr",
     "output_type": "stream",
     "text": [
      "/usr/local/lib/python3.9/site-packages/xgboost/core.py:158: UserWarning: [19:11:23] WARNING: /workspace/src/learner.cc:740: \n",
      "Parameters: { \"use_label_encoder\" } are not used.\n",
      "\n",
      "  warnings.warn(smsg, UserWarning)\n"
     ]
    },
    {
     "name": "stdout",
     "output_type": "stream",
     "text": [
      "✅ Accuracy: 0.9710144927536232\n",
      "              precision    recall  f1-score   support\n",
      "\n",
      "           0       1.00      0.94      0.97        32\n",
      "           1       0.89      1.00      0.94        16\n",
      "           2       1.00      1.00      1.00        21\n",
      "\n",
      "    accuracy                           0.97        69\n",
      "   macro avg       0.96      0.98      0.97        69\n",
      "weighted avg       0.97      0.97      0.97        69\n",
      "\n",
      "✅ Experimento 14 registrado en MLflow.\n",
      "🔄 Ejecutando experimento 15 con {'n_estimators': 150, 'max_depth': 5, 'learning_rate': 0.2}\n"
     ]
    },
    {
     "name": "stderr",
     "output_type": "stream",
     "text": [
      "/usr/local/lib/python3.9/site-packages/xgboost/core.py:158: UserWarning: [19:11:26] WARNING: /workspace/src/learner.cc:740: \n",
      "Parameters: { \"use_label_encoder\" } are not used.\n",
      "\n",
      "  warnings.warn(smsg, UserWarning)\n"
     ]
    },
    {
     "name": "stdout",
     "output_type": "stream",
     "text": [
      "✅ Accuracy: 0.9565217391304348\n",
      "              precision    recall  f1-score   support\n",
      "\n",
      "           0       1.00      0.91      0.95        32\n",
      "           1       0.89      1.00      0.94        16\n",
      "           2       0.95      1.00      0.98        21\n",
      "\n",
      "    accuracy                           0.96        69\n",
      "   macro avg       0.95      0.97      0.96        69\n",
      "weighted avg       0.96      0.96      0.96        69\n",
      "\n",
      "✅ Experimento 15 registrado en MLflow.\n",
      "🔄 Ejecutando experimento 16 con {'n_estimators': 200, 'max_depth': 6, 'learning_rate': 0.2}\n",
      "✅ Accuracy: 0.9710144927536232\n",
      "              precision    recall  f1-score   support\n",
      "\n",
      "           0       1.00      0.94      0.97        32\n",
      "           1       0.89      1.00      0.94        16\n",
      "           2       1.00      1.00      1.00        21\n",
      "\n",
      "    accuracy                           0.97        69\n",
      "   macro avg       0.96      0.98      0.97        69\n",
      "weighted avg       0.97      0.97      0.97        69\n",
      "\n"
     ]
    },
    {
     "name": "stderr",
     "output_type": "stream",
     "text": [
      "/usr/local/lib/python3.9/site-packages/xgboost/core.py:158: UserWarning: [19:11:29] WARNING: /workspace/src/learner.cc:740: \n",
      "Parameters: { \"use_label_encoder\" } are not used.\n",
      "\n",
      "  warnings.warn(smsg, UserWarning)\n"
     ]
    },
    {
     "name": "stdout",
     "output_type": "stream",
     "text": [
      "✅ Experimento 16 registrado en MLflow.\n",
      "🔄 Ejecutando experimento 17 con {'n_estimators': 50, 'max_depth': 3, 'learning_rate': 0.3}\n",
      "✅ Accuracy: 0.9710144927536232\n",
      "              precision    recall  f1-score   support\n",
      "\n",
      "           0       0.97      0.97      0.97        32\n",
      "           1       0.94      0.94      0.94        16\n",
      "           2       1.00      1.00      1.00        21\n",
      "\n",
      "    accuracy                           0.97        69\n",
      "   macro avg       0.97      0.97      0.97        69\n",
      "weighted avg       0.97      0.97      0.97        69\n",
      "\n"
     ]
    },
    {
     "name": "stderr",
     "output_type": "stream",
     "text": [
      "/usr/local/lib/python3.9/site-packages/xgboost/core.py:158: UserWarning: [19:11:32] WARNING: /workspace/src/learner.cc:740: \n",
      "Parameters: { \"use_label_encoder\" } are not used.\n",
      "\n",
      "  warnings.warn(smsg, UserWarning)\n"
     ]
    },
    {
     "name": "stdout",
     "output_type": "stream",
     "text": [
      "✅ Experimento 17 registrado en MLflow.\n",
      "🔄 Ejecutando experimento 18 con {'n_estimators': 100, 'max_depth': 4, 'learning_rate': 0.3}\n",
      "✅ Accuracy: 0.9855072463768116\n",
      "              precision    recall  f1-score   support\n",
      "\n",
      "           0       1.00      0.97      0.98        32\n",
      "           1       0.94      1.00      0.97        16\n",
      "           2       1.00      1.00      1.00        21\n",
      "\n",
      "    accuracy                           0.99        69\n",
      "   macro avg       0.98      0.99      0.98        69\n",
      "weighted avg       0.99      0.99      0.99        69\n",
      "\n"
     ]
    },
    {
     "name": "stderr",
     "output_type": "stream",
     "text": [
      "/usr/local/lib/python3.9/site-packages/xgboost/core.py:158: UserWarning: [19:11:35] WARNING: /workspace/src/learner.cc:740: \n",
      "Parameters: { \"use_label_encoder\" } are not used.\n",
      "\n",
      "  warnings.warn(smsg, UserWarning)\n"
     ]
    },
    {
     "name": "stdout",
     "output_type": "stream",
     "text": [
      "✅ Experimento 18 registrado en MLflow.\n",
      "🔄 Ejecutando experimento 19 con {'n_estimators': 150, 'max_depth': 5, 'learning_rate': 0.3}\n"
     ]
    },
    {
     "name": "stderr",
     "output_type": "stream",
     "text": [
      "/usr/local/lib/python3.9/site-packages/xgboost/core.py:158: UserWarning: [19:11:39] WARNING: /workspace/src/learner.cc:740: \n",
      "Parameters: { \"use_label_encoder\" } are not used.\n",
      "\n",
      "  warnings.warn(smsg, UserWarning)\n"
     ]
    },
    {
     "name": "stdout",
     "output_type": "stream",
     "text": [
      "✅ Accuracy: 0.9710144927536232\n",
      "              precision    recall  f1-score   support\n",
      "\n",
      "           0       1.00      0.94      0.97        32\n",
      "           1       0.89      1.00      0.94        16\n",
      "           2       1.00      1.00      1.00        21\n",
      "\n",
      "    accuracy                           0.97        69\n",
      "   macro avg       0.96      0.98      0.97        69\n",
      "weighted avg       0.97      0.97      0.97        69\n",
      "\n",
      "✅ Experimento 19 registrado en MLflow.\n",
      "🔄 Ejecutando experimento 20 con {'n_estimators': 200, 'max_depth': 6, 'learning_rate': 0.3}\n",
      "✅ Accuracy: 0.9710144927536232\n",
      "              precision    recall  f1-score   support\n",
      "\n",
      "           0       1.00      0.94      0.97        32\n",
      "           1       0.89      1.00      0.94        16\n",
      "           2       1.00      1.00      1.00        21\n",
      "\n",
      "    accuracy                           0.97        69\n",
      "   macro avg       0.96      0.98      0.97        69\n",
      "weighted avg       0.97      0.97      0.97        69\n",
      "\n"
     ]
    },
    {
     "name": "stderr",
     "output_type": "stream",
     "text": [
      "/usr/local/lib/python3.9/site-packages/xgboost/core.py:158: UserWarning: [19:11:42] WARNING: /workspace/src/learner.cc:740: \n",
      "Parameters: { \"use_label_encoder\" } are not used.\n",
      "\n",
      "  warnings.warn(smsg, UserWarning)\n"
     ]
    },
    {
     "name": "stdout",
     "output_type": "stream",
     "text": [
      "✅ Experimento 20 registrado en MLflow.\n"
     ]
    }
   ],
   "source": [
    "# ✅ Lista de hiperparámetros para 20 ejecuciones\n",
    "param_grid = [\n",
    "    {'n_estimators': 50, 'max_depth': 3, 'learning_rate': 0.01},\n",
    "    {'n_estimators': 100, 'max_depth': 4, 'learning_rate': 0.01},\n",
    "    {'n_estimators': 150, 'max_depth': 5, 'learning_rate': 0.01},\n",
    "    {'n_estimators': 200, 'max_depth': 6, 'learning_rate': 0.01},\n",
    "    {'n_estimators': 50, 'max_depth': 3, 'learning_rate': 0.05},\n",
    "    {'n_estimators': 100, 'max_depth': 4, 'learning_rate': 0.05},\n",
    "    {'n_estimators': 150, 'max_depth': 5, 'learning_rate': 0.05},\n",
    "    {'n_estimators': 200, 'max_depth': 6, 'learning_rate': 0.05},\n",
    "    {'n_estimators': 50, 'max_depth': 3, 'learning_rate': 0.1},\n",
    "    {'n_estimators': 100, 'max_depth': 4, 'learning_rate': 0.1},\n",
    "    {'n_estimators': 150, 'max_depth': 5, 'learning_rate': 0.1},\n",
    "    {'n_estimators': 200, 'max_depth': 6, 'learning_rate': 0.1},\n",
    "    {'n_estimators': 50, 'max_depth': 3, 'learning_rate': 0.2},\n",
    "    {'n_estimators': 100, 'max_depth': 4, 'learning_rate': 0.2},\n",
    "    {'n_estimators': 150, 'max_depth': 5, 'learning_rate': 0.2},\n",
    "    {'n_estimators': 200, 'max_depth': 6, 'learning_rate': 0.2},\n",
    "    {'n_estimators': 50, 'max_depth': 3, 'learning_rate': 0.3},\n",
    "    {'n_estimators': 100, 'max_depth': 4, 'learning_rate': 0.3},\n",
    "    {'n_estimators': 150, 'max_depth': 5, 'learning_rate': 0.3},\n",
    "    {'n_estimators': 200, 'max_depth': 6, 'learning_rate': 0.3},\n",
    "]\n",
    "\n",
    "# ✅ Ejecutar 20 experimentos con MLflow (modificado)\n",
    "for i, params in enumerate(param_grid, 1):\n",
    "    with mlflow.start_run(run_name=f\"XGBoost_run_{i}\"):\n",
    "        print(f\"🔄 Ejecutando experimento {i} con {params}\")\n",
    "\n",
    "        # Entrenar modelo con los hiperparámetros\n",
    "        xgb_model = XGBClassifier(\n",
    "            n_estimators=params['n_estimators'],\n",
    "            max_depth=params['max_depth'],\n",
    "            learning_rate=params['learning_rate'],\n",
    "            use_label_encoder=False,\n",
    "            eval_metric=\"mlogloss\",\n",
    "            random_state=42\n",
    "        )\n",
    "        xgb_model.fit(X_train, y_train)\n",
    "\n",
    "        # Hacer predicciones\n",
    "        y_pred = xgb_model.predict(X_test)\n",
    "\n",
    "        # Evaluar el modelo\n",
    "        acc = accuracy_score(y_test, y_pred)\n",
    "        print(f\"✅ Accuracy: {acc}\")\n",
    "        print(classification_report(y_test, y_pred))\n",
    "\n",
    "        # Registrar hiperparámetros en MLflow\n",
    "        mlflow.log_param(\"n_estimators\", params['n_estimators'])\n",
    "        mlflow.log_param(\"max_depth\", params['max_depth'])\n",
    "        mlflow.log_param(\"learning_rate\", params['learning_rate'])\n",
    "\n",
    "        # Registrar métricas en MLflow\n",
    "        mlflow.log_metric(\"accuracy\", acc)\n",
    "\n",
    "        # Registrar el modelo en MLflow con un nombre de artefacto constante\n",
    "        mlflow.sklearn.log_model(xgb_model, \"penguins_xgboost_model\")\n",
    "\n",
    "        print(f\"✅ Experimento {i} registrado en MLflow.\")\n"
   ]
  },
  {
   "cell_type": "markdown",
   "metadata": {
    "tags": []
   },
   "source": [
    "# Selección del mejor modelo"
   ]
  },
  {
   "cell_type": "code",
   "execution_count": 11,
   "metadata": {
    "tags": []
   },
   "outputs": [
    {
     "name": "stderr",
     "output_type": "stream",
     "text": [
      "Registered model 'XGBoost_Best_Deployed' already exists. Creating a new version of this model...\n",
      "2025/03/17 19:11:51 INFO mlflow.tracking._model_registry.client: Waiting up to 300 seconds for model version to finish creation. Model name: XGBoost_Best_Deployed, version 3\n"
     ]
    },
    {
     "name": "stdout",
     "output_type": "stream",
     "text": [
      "🏆 Mejor modelo:\n",
      "                             run_id params.n_estimators params.max_depth  \\\n",
      "2  e1c7ea2c7bf74750807b05d8f061417e                 100                4   \n",
      "\n",
      "  params.learning_rate  metrics.accuracy  \n",
      "2                  0.3          0.985507  \n",
      "🏆 Mejor run_id: e1c7ea2c7bf74750807b05d8f061417e\n",
      "✅ Modelo registrado correctamente: <ModelVersion: aliases=[], creation_timestamp=1742238711268, current_stage='None', description='', last_updated_timestamp=1742238711268, name='XGBoost_Best_Deployed', run_id='e1c7ea2c7bf74750807b05d8f061417e', run_link='', source='s3://mlflows3/artifacts/1/e1c7ea2c7bf74750807b05d8f061417e/artifacts/penguins_xgboost_model', status='READY', status_message='', tags={}, user_id='', version='3'>\n"
     ]
    },
    {
     "name": "stderr",
     "output_type": "stream",
     "text": [
      "Created version '3' of model 'XGBoost_Best_Deployed'.\n"
     ]
    }
   ],
   "source": [
    "import mlflow\n",
    "import pandas as pd\n",
    "\n",
    "# Definir la URI de MLflow (asegúrate de que coincide con la configuración)\n",
    "mlflow.set_tracking_uri(\"http://10.43.101.205:5000\")\n",
    "\n",
    "# Obtener todos los runs del experimento \"penguins_experiment\"\n",
    "experiment = mlflow.get_experiment_by_name(\"penguins_experiment\")\n",
    "df_runs = mlflow.search_runs(experiment_ids=[experiment.experiment_id])\n",
    "\n",
    "# Filtrar las columnas relevantes\n",
    "df_results = df_runs[[\"run_id\", \"params.n_estimators\", \"params.max_depth\", \"params.learning_rate\", \"metrics.accuracy\"]]\n",
    "\n",
    "# Ordenar por accuracy descendente\n",
    "df_results = df_results.sort_values(by=\"metrics.accuracy\", ascending=False)\n",
    "\n",
    "# Mostrar el mejor resultado\n",
    "print(\"🏆 Mejor modelo:\")\n",
    "print(df_results.head(1))  # Muestra solo el mejor\n",
    "\n",
    "# Seleccionar el run con mejor accuracy\n",
    "best_run_id = df_results.head(1)[\"run_id\"].iloc[0]\n",
    "print(\"🏆 Mejor run_id:\", best_run_id)\n",
    "\n",
    "# Construir la URI del modelo. 'penguins_xgboost_model' es el nombre constante usado en log_model.\n",
    "model_uri = f\"runs:/{best_run_id}/penguins_xgboost_model\"\n",
    "\n",
    "# Registrar el modelo en el Model Registry con el nombre \"XGBoost_Best_Deployed\"\n",
    "registered_model = mlflow.register_model(model_uri, \"XGBoost_Best_Deployed\")\n",
    "print(\"✅ Modelo registrado correctamente:\", registered_model)"
   ]
  },
  {
   "cell_type": "code",
   "execution_count": 12,
   "metadata": {
    "tags": []
   },
   "outputs": [
    {
     "name": "stdout",
     "output_type": "stream",
     "text": [
      "✅ Modelo cargado correctamente desde MLflow.\n"
     ]
    }
   ],
   "source": [
    "model = mlflow.pyfunc.load_model(\"models:/XGBoost_Best_Deployed/latest\")\n",
    "print(\"✅ Modelo cargado correctamente desde MLflow.\")"
   ]
  },
  {
   "cell_type": "code",
   "execution_count": 13,
   "metadata": {
    "tags": []
   },
   "outputs": [
    {
     "name": "stdout",
     "output_type": "stream",
     "text": [
      "['Adelie' 'Chinstrap' 'Gentoo']\n"
     ]
    }
   ],
   "source": [
    "print(label_encoders[\"species\"].classes_)"
   ]
  },
  {
   "cell_type": "code",
   "execution_count": 14,
   "metadata": {
    "tags": []
   },
   "outputs": [
    {
     "name": "stdout",
     "output_type": "stream",
     "text": [
      "Mapping para 'island': {'Biscoe': 0, 'Dream': 1, 'Torgersen': 2}\n",
      "Mapping para 'sex': {'.': 0, 'FEMALE': 1, 'MALE': 2}\n",
      "Mapping para 'species': {'Adelie': 0, 'Chinstrap': 1, 'Gentoo': 2}\n"
     ]
    }
   ],
   "source": [
    "# Imprimir el mapeo de las columnas categóricas\n",
    "print(\"Mapping para 'island':\", dict(zip(label_encoders['island'].classes_, range(len(label_encoders['island'].classes_)))))\n",
    "print(\"Mapping para 'sex':\", dict(zip(label_encoders['sex'].classes_, range(len(label_encoders['sex'].classes_)))))\n",
    "print(\"Mapping para 'species':\", dict(zip(label_encoders['species'].classes_, range(len(label_encoders['species'].classes_)))))\n"
   ]
  },
  {
   "cell_type": "code",
   "execution_count": null,
   "metadata": {},
   "outputs": [],
   "source": []
  }
 ],
 "metadata": {
  "kernelspec": {
   "display_name": "Python 3 (ipykernel)",
   "language": "python",
   "name": "python3"
  },
  "language_info": {
   "codemirror_mode": {
    "name": "ipython",
    "version": 3
   },
   "file_extension": ".py",
   "mimetype": "text/x-python",
   "name": "python",
   "nbconvert_exporter": "python",
   "pygments_lexer": "ipython3",
   "version": "3.9.21"
  }
 },
 "nbformat": 4,
 "nbformat_minor": 4
}
