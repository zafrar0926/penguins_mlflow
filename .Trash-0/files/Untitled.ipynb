{
 "cells": [
  {
   "cell_type": "code",
   "execution_count": 2,
   "id": "3e1625a4-7505-4e8d-9fe1-b272b7ae83d1",
   "metadata": {
    "tags": []
   },
   "outputs": [
    {
     "name": "stderr",
     "output_type": "stream",
     "text": [
      "2025/03/16 18:46:29 INFO mlflow.tracking.fluent: Experiment with name 'penguins_experiment' does not exist. Creating a new experiment.\n"
     ]
    },
    {
     "name": "stdout",
     "output_type": "stream",
     "text": [
      "MLflow Tracking URI: http://10.43.101.205:5000\n"
     ]
    }
   ],
   "source": [
    "import mlflow\n",
    "\n",
    "# Configurar la conexión con MLflow y MinIO\n",
    "mlflow.set_tracking_uri(\"http://10.43.101.205:5000\")\n",
    "mlflow.set_experiment(\"penguins_experiment\")\n",
    "\n",
    "print(\"MLflow Tracking URI:\", mlflow.get_tracking_uri())\n"
   ]
  },
  {
   "cell_type": "code",
   "execution_count": null,
   "id": "42b16e17-e12c-46cb-a9b7-5dde82b58144",
   "metadata": {},
   "outputs": [],
   "source": []
  }
 ],
 "metadata": {
  "kernelspec": {
   "display_name": "Python 3 (ipykernel)",
   "language": "python",
   "name": "python3"
  },
  "language_info": {
   "codemirror_mode": {
    "name": "ipython",
    "version": 3
   },
   "file_extension": ".py",
   "mimetype": "text/x-python",
   "name": "python",
   "nbconvert_exporter": "python",
   "pygments_lexer": "ipython3",
   "version": "3.9.21"
  }
 },
 "nbformat": 4,
 "nbformat_minor": 5
}
